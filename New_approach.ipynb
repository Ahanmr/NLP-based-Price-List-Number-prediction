{
 "cells": [
  {
   "cell_type": "code",
   "execution_count": 35,
   "metadata": {},
   "outputs": [
    {
     "name": "stdout",
     "output_type": "stream",
     "text": [
      "['hello', '!', 'this', 'is', 'amazing', '#', 'sih2019', '[', 'rcoer', ']']\n",
      "['hello', 'this', 'is', 'amazing', 'sih2019', 'rcoer']\n"
     ]
    }
   ],
   "source": [
    "import re\n",
    "import pandas as pd\n",
    "# df=pd.read_csv(\"test_sih.csv - Sheet1.csv\")\n",
    "# df.head(6)\n",
    "test=str(\"hello! this is amazing #sih2019 [rcoer]\")\n",
    "print(word_tokenize(test))\n",
    "test=re.sub('\\W+',' ', test )\n",
    "from nltk import word_tokenize\n",
    "print(word_tokenize(test))"
   ]
  },
  {
   "cell_type": "code",
   "execution_count": 63,
   "metadata": {},
   "outputs": [
    {
     "name": "stderr",
     "output_type": "stream",
     "text": [
      "/home/ahanmr/flipkart/myvenv/lib/python3.6/site-packages/ipykernel_launcher.py:3: SettingWithCopyWarning: \n",
      "A value is trying to be set on a copy of a slice from a DataFrame\n",
      "\n",
      "See the caveats in the documentation: http://pandas.pydata.org/pandas-docs/stable/indexing.html#indexing-view-versus-copy\n",
      "  This is separate from the ipykernel package so we can avoid doing imports until\n",
      "/home/ahanmr/flipkart/myvenv/lib/python3.6/site-packages/ipykernel_launcher.py:4: SettingWithCopyWarning: \n",
      "A value is trying to be set on a copy of a slice from a DataFrame\n",
      "\n",
      "See the caveats in the documentation: http://pandas.pydata.org/pandas-docs/stable/indexing.html#indexing-view-versus-copy\n",
      "  after removing the cwd from sys.path.\n"
     ]
    },
    {
     "data": {
      "text/html": [
       "<div>\n",
       "<style scoped>\n",
       "    .dataframe tbody tr th:only-of-type {\n",
       "        vertical-align: middle;\n",
       "    }\n",
       "\n",
       "    .dataframe tbody tr th {\n",
       "        vertical-align: top;\n",
       "    }\n",
       "\n",
       "    .dataframe thead th {\n",
       "        text-align: right;\n",
       "    }\n",
       "</style>\n",
       "<table border=\"1\" class=\"dataframe\">\n",
       "  <thead>\n",
       "    <tr style=\"text-align: right;\">\n",
       "      <th></th>\n",
       "      <th>SLNO</th>\n",
       "      <th>PL No.</th>\n",
       "      <th>DESCRIPTION</th>\n",
       "    </tr>\n",
       "  </thead>\n",
       "  <tbody>\n",
       "    <tr>\n",
       "      <th>0</th>\n",
       "      <td>1</td>\n",
       "      <td>11020179</td>\n",
       "      <td>[Suspension, motor, nose, holder, with, sandwi...</td>\n",
       "    </tr>\n",
       "    <tr>\n",
       "      <th>1</th>\n",
       "      <td>2</td>\n",
       "      <td>11020416</td>\n",
       "      <td>[SAFETY, BRACKET, EQUALIGING, BEAM]</td>\n",
       "    </tr>\n",
       "    <tr>\n",
       "      <th>2</th>\n",
       "      <td>3</td>\n",
       "      <td>11020453</td>\n",
       "      <td>[SLACK, ADJUSTER, UPPER]</td>\n",
       "    </tr>\n",
       "    <tr>\n",
       "      <th>3</th>\n",
       "      <td>4</td>\n",
       "      <td>11020519</td>\n",
       "      <td>[EQUALISER, LINKAGE, WITH, BUSHING]</td>\n",
       "    </tr>\n",
       "    <tr>\n",
       "      <th>4</th>\n",
       "      <td>5</td>\n",
       "      <td>11020544</td>\n",
       "      <td>[ADJUSTER, SLACK, LONG, ASSLY, WEDER, HORN, TR...</td>\n",
       "    </tr>\n",
       "    <tr>\n",
       "      <th>5</th>\n",
       "      <td>6</td>\n",
       "      <td>11020568</td>\n",
       "      <td>[HANGER, LEVER]</td>\n",
       "    </tr>\n",
       "  </tbody>\n",
       "</table>\n",
       "</div>"
      ],
      "text/plain": [
       "   SLNO    PL No.                                        DESCRIPTION\n",
       "0     1  11020179  [Suspension, motor, nose, holder, with, sandwi...\n",
       "1     2  11020416                [SAFETY, BRACKET, EQUALIGING, BEAM]\n",
       "2     3  11020453                           [SLACK, ADJUSTER, UPPER]\n",
       "3     4  11020519                [EQUALISER, LINKAGE, WITH, BUSHING]\n",
       "4     5  11020544  [ADJUSTER, SLACK, LONG, ASSLY, WEDER, HORN, TR...\n",
       "5     6  11020568                                    [HANGER, LEVER]"
      ]
     },
     "execution_count": 63,
     "metadata": {},
     "output_type": "execute_result"
    }
   ],
   "source": [
    "df=pd.read_csv(\"test_sih.csv - Sheet1.csv\")\n",
    "for i in range(len(df[\"DESCRIPTION\"])):\n",
    "    df[\"DESCRIPTION\"][i]=re.sub('\\W+',' ', df[\"DESCRIPTION\"][i])\n",
    "    df[\"DESCRIPTION\"][i]=word_tokenize(df[\"DESCRIPTION\"][i])\n",
    "\n",
    "\n",
    "df.head(6)\n"
   ]
  },
  {
   "cell_type": "code",
   "execution_count": 60,
   "metadata": {
    "scrolled": true
   },
   "outputs": [
    {
     "data": {
      "text/html": [
       "<div>\n",
       "<style scoped>\n",
       "    .dataframe tbody tr th:only-of-type {\n",
       "        vertical-align: middle;\n",
       "    }\n",
       "\n",
       "    .dataframe tbody tr th {\n",
       "        vertical-align: top;\n",
       "    }\n",
       "\n",
       "    .dataframe thead th {\n",
       "        text-align: right;\n",
       "    }\n",
       "</style>\n",
       "<table border=\"1\" class=\"dataframe\">\n",
       "  <thead>\n",
       "    <tr style=\"text-align: right;\">\n",
       "      <th></th>\n",
       "      <th>SLNO</th>\n",
       "      <th>PL No.</th>\n",
       "      <th>DESCRIPTION</th>\n",
       "    </tr>\n",
       "  </thead>\n",
       "  <tbody>\n",
       "    <tr>\n",
       "      <th>0</th>\n",
       "      <td>1</td>\n",
       "      <td>11020179</td>\n",
       "      <td>suspension motor nose holder with sandwitch mo...</td>\n",
       "    </tr>\n",
       "    <tr>\n",
       "      <th>1</th>\n",
       "      <td>2</td>\n",
       "      <td>11020416</td>\n",
       "      <td>safety bracket equaliging beam</td>\n",
       "    </tr>\n",
       "    <tr>\n",
       "      <th>2</th>\n",
       "      <td>3</td>\n",
       "      <td>11020453</td>\n",
       "      <td>slack adjuster upper</td>\n",
       "    </tr>\n",
       "    <tr>\n",
       "      <th>3</th>\n",
       "      <td>4</td>\n",
       "      <td>11020519</td>\n",
       "      <td>equaliser linkage with bushing</td>\n",
       "    </tr>\n",
       "    <tr>\n",
       "      <th>4</th>\n",
       "      <td>5</td>\n",
       "      <td>11020544</td>\n",
       "      <td>adjuster slack long assly (weder horn truck bo...</td>\n",
       "    </tr>\n",
       "  </tbody>\n",
       "</table>\n",
       "</div>"
      ],
      "text/plain": [
       "   SLNO    PL No.                                        DESCRIPTION\n",
       "0     1  11020179  suspension motor nose holder with sandwitch mo...\n",
       "1     2  11020416                     safety bracket equaliging beam\n",
       "2     3  11020453                               slack adjuster upper\n",
       "3     4  11020519                     equaliser linkage with bushing\n",
       "4     5  11020544  adjuster slack long assly (weder horn truck bo..."
      ]
     },
     "execution_count": 60,
     "metadata": {},
     "output_type": "execute_result"
    }
   ],
   "source": [
    "df[\"DESCRIPTION\"]=df[\"DESCRIPTION\"].map(lambda x: x.lower())\n",
    "df.head()"
   ]
  },
  {
   "cell_type": "code",
   "execution_count": 38,
   "metadata": {},
   "outputs": [],
   "source": [
    "from sklearn.feature_extraction.text import CountVectorizer\n",
    "from sklearn.metrics.pairwise import euclidean_distances"
   ]
  },
  {
   "cell_type": "code",
   "execution_count": 44,
   "metadata": {},
   "outputs": [],
   "source": [
    "corpus=[]\n",
    "for i in range(len(df[\"DESCRIPTION\"])):\n",
    "    corpus.append(df[\"DESCRIPTION\"][i])"
   ]
  },
  {
   "cell_type": "code",
   "execution_count": 56,
   "metadata": {},
   "outputs": [],
   "source": [
    "# vectorizer=CountVectorizer()\n",
    "# features=vectorizer.fit_transform(corpus).todense()\n",
    "# print(features)"
   ]
  },
  {
   "cell_type": "code",
   "execution_count": 57,
   "metadata": {},
   "outputs": [],
   "source": [
    "# vectorizer.vocabulary_"
   ]
  },
  {
   "cell_type": "code",
   "execution_count": 58,
   "metadata": {},
   "outputs": [],
   "source": [
    "# featurelist=features.tolist()"
   ]
  },
  {
   "cell_type": "code",
   "execution_count": 59,
   "metadata": {},
   "outputs": [],
   "source": [
    "# import numpy as np\n",
    "# featurelist[0]=np.array(featurelist[0])\n",
    "# featurelist[1]=np.array(featurelist[1])\n",
    "# sum(abs(featurelist[0]-featurelist[3]))"
   ]
  },
  {
   "cell_type": "code",
   "execution_count": null,
   "metadata": {},
   "outputs": [],
   "source": []
  }
 ],
 "metadata": {
  "kernelspec": {
   "display_name": "Python 3",
   "language": "python",
   "name": "python3"
  },
  "language_info": {
   "codemirror_mode": {
    "name": "ipython",
    "version": 3
   },
   "file_extension": ".py",
   "mimetype": "text/x-python",
   "name": "python",
   "nbconvert_exporter": "python",
   "pygments_lexer": "ipython3",
   "version": "3.6.7"
  }
 },
 "nbformat": 4,
 "nbformat_minor": 2
}
